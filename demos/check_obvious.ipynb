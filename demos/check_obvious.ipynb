{
 "cells": [
  {
   "cell_type": "code",
   "execution_count": 339,
   "metadata": {},
   "outputs": [],
   "source": [
    "using ReactiveMP\n",
    "using StableRNGs\n",
    "using Flux\n",
    "using Distributions"
   ]
  },
  {
   "cell_type": "code",
   "execution_count": 340,
   "metadata": {},
   "outputs": [
    {
     "data": {
      "text/plain": [
       "ProdCVI{StableRNGs.LehmerRNG, Flux.Optimise.Adam, ForwardDiffGrad, true}(StableRNGs.LehmerRNG(state=0x00000000000000000000000000000055), 1, 2000, Flux.Optimise.Adam(0.05, (0.9, 0.999), 1.0e-8, IdDict{Any, Any}()), ForwardDiffGrad(), 10, Val{true}(), true)"
      ]
     },
     "metadata": {},
     "output_type": "display_data"
    }
   ],
   "source": [
    "cvi = CVI(StableRNG(42), 1, 2000, Flux.Adam(0.05), ForwardDiffGrad(), 10, Val(true), true)"
   ]
  },
  {
   "cell_type": "code",
   "execution_count": 341,
   "metadata": {},
   "outputs": [
    {
     "data": {
      "text/plain": [
       "ContinuousUnivariateLogPdf(ReactiveMP.UnspecifiedDomain())"
      ]
     },
     "metadata": {},
     "output_type": "display_data"
    }
   ],
   "source": [
    "f = (x) -> x\n",
    "\n",
    "inbound_x = NormalMeanVariance(2, 10)\n",
    "inbound_y = NormalMeanVariance(4, 10)\n",
    "\n",
    "F = promote_variate_type(variate_form(inbound_x), ReactiveMP.AbstractContinuousGenericLogPdf)\n",
    "f_likelihood = convert(F, ReactiveMP.UnspecifiedDomain(), (z) -> logpdf(inbound_y, f(z)))"
   ]
  },
  {
   "cell_type": "code",
   "execution_count": 342,
   "metadata": {},
   "outputs": [
    {
     "data": {
      "text/plain": [
       "NormalWeightedMeanPrecision{Float64}(xi=0.6999949695037428, w=0.24999997499883103)"
      ]
     },
     "metadata": {},
     "output_type": "display_data"
    }
   ],
   "source": [
    "# compute marginal on the x edge\n",
    "q_x = prod(cvi, inbound_x, f_likelihood)"
   ]
  },
  {
   "cell_type": "code",
   "execution_count": 343,
   "metadata": {},
   "outputs": [
    {
     "name": "stderr",
     "output_type": "stream",
     "text": [
      "┌ Info: UnivariateNormalNaturalParameters{Float64}(0.4, -0.05)\n",
      "└ @ Main /Users/mykola/repos/CIExpirements/demos/check_obvious.ipynb:6\n",
      "┌ Info: UnivariateNormalNaturalParameters{Float64}(0.049999996990617857, -0.0499999899053406)\n",
      "└ @ Main /Users/mykola/repos/CIExpirements/demos/check_obvious.ipynb:33\n"
     ]
    },
    {
     "name": "stderr",
     "output_type": "stream",
     "text": [
      "┌ Info: NormalWeightedMeanPrecision{Float64}(xi=0.4499999969906179, w=0.1999999798106812)\n",
      "└ @ Main /Users/mykola/repos/CIExpirements/demos/check_obvious.ipynb:36\n"
     ]
    },
    {
     "data": {
      "text/plain": [
       "NormalWeightedMeanPrecision{Float64}(xi=0.049999996990617857, w=0.0999999798106812)"
      ]
     },
     "metadata": {},
     "output_type": "display_data"
    }
   ],
   "source": [
    "samples = rand(q_x, 2000)\n",
    "inbound_params = ReactiveMP.naturalparams(inbound_y)\n",
    "λ_current = ReactiveMP.naturalparams(inbound_y)\n",
    "T = typeof(λ_current)\n",
    "\n",
    "@info λ_current\n",
    "\n",
    "for i in 1:cvi.n_iterations\n",
    "\n",
    "    logq = let samples = samples, inbound = inbound_x, T = T\n",
    "        (η) -> mean((sample) -> -logpdf(inbound, sample) * logpdf(ReactiveMP.as_naturalparams(T, η), f(sample)), samples)\n",
    "    end\n",
    "\n",
    "    ∇logq = ReactiveMP.compute_gradient(cvi.grad, logq, vec(λ_current))\n",
    "\n",
    "    # @info ∇logq\n",
    "    Fisher = ReactiveMP.compute_fisher_matrix(cvi, T, vec(λ_current))\n",
    "\n",
    "    # compute natural gradient\n",
    "    ∇f = Fisher \\ ∇logq\n",
    "\n",
    "    ∇ = λ_current - inbound_params - as_naturalparams(T, ∇f)\n",
    "\n",
    "    λ_new = as_naturalparams(T, ReactiveMP.cvi_update!(cvi.opt, λ_current, ∇))\n",
    "\n",
    "    # # check whether updated natural parameters are proper\n",
    "    if ReactiveMP.isproper(λ_new) && ReactiveMP.enforce_proper_message(cvi.enforce_proper_messages, λ_new, ReactiveMP.naturalparams(inbound_y))\n",
    "        λ_current = λ_new\n",
    "        hasupdated = true\n",
    "    end\n",
    "end\n",
    "\n",
    "@info  λ_current - ReactiveMP.naturalparams(inbound_y)\n",
    "\n",
    "q_y = convert(Distribution, λ_current)\n",
    "@info q_y\n",
    "outbound_y = convert(Distribution, λ_current - ReactiveMP.naturalparams(inbound_y))"
   ]
  },
  {
   "cell_type": "code",
   "execution_count": 344,
   "metadata": {},
   "outputs": [
    {
     "name": "stdout",
     "output_type": "stream",
     "text": [
      "NormalWeightedMeanPrecision{Float64}(xi=0.6000000000000001, w=0.2)\n",
      "NormalWeightedMeanPrecision{Float64}(xi=0.6999949695037428, w=0.24999997499883103)\n",
      "NormalWeightedMeanPrecision{Float64}(xi=0.4499999969906179, w=0.1999999798106812)\n"
     ]
    }
   ],
   "source": [
    "println(prod(ProdAnalytical(), inbound_x, inbound_y))\n",
    "println(q_x)\n",
    "println(q_y)"
   ]
  }
 ],
 "metadata": {
  "kernelspec": {
   "display_name": "Julia 1.8.5",
   "language": "julia",
   "name": "julia-1.8"
  },
  "language_info": {
   "file_extension": ".jl",
   "mimetype": "application/julia",
   "name": "julia",
   "version": "1.8.5"
  },
  "orig_nbformat": 4
 },
 "nbformat": 4,
 "nbformat_minor": 2
}
